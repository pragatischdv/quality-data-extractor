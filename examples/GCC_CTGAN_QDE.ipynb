{
  "nbformat": 4,
  "nbformat_minor": 0,
  "metadata": {
    "colab": {
      "provenance": []
    },
    "kernelspec": {
      "name": "python3",
      "display_name": "Python 3"
    },
    "language_info": {
      "name": "python"
    }
  },
  "cells": [
    {
      "cell_type": "code",
      "source": [
        "%pip install sdv ucimlrepo qde"
      ],
      "metadata": {
        "id": "VdGJivVloQNJ"
      },
      "execution_count": null,
      "outputs": []
    },
    {
      "cell_type": "code",
      "source": [
        "from ucimlrepo import fetch_ucirepo\n",
        "\n",
        "# fetch dataset\n",
        "statlog_german_credit_data = fetch_ucirepo(id=144)\n",
        "\n",
        "# data (as pandas dataframes)\n",
        "X = statlog_german_credit_data.data.features\n",
        "y = statlog_german_credit_data.data.targets"
      ],
      "metadata": {
        "id": "uvVsnArMojpt"
      },
      "execution_count": 2,
      "outputs": []
    },
    {
      "cell_type": "code",
      "source": [
        "data_frame = X.copy()\n",
        "data_frame[\"target\"] = y"
      ],
      "metadata": {
        "id": "jtpDtqRwpRyb"
      },
      "execution_count": 3,
      "outputs": []
    },
    {
      "cell_type": "code",
      "source": [
        "import pandas as pd\n",
        "from sklearn.preprocessing import LabelEncoder\n",
        "\n",
        "# Find categorical (non-numeric) columns\n",
        "categorical_cols = data_frame.select_dtypes(include=['object', 'category']).columns\n",
        "\n",
        "# Label encode each categorical column\n",
        "label_encoders = {}\n",
        "\n",
        "for col in categorical_cols:\n",
        "    le = LabelEncoder()\n",
        "    data_frame[col] = le.fit_transform(data_frame[col].astype(str))  # Ensure all values are strings\n",
        "    label_encoders[col] = le  # Store encoder if you need to inverse_transform later"
      ],
      "metadata": {
        "id": "b3FUaJTqtUHS"
      },
      "execution_count": 4,
      "outputs": []
    },
    {
      "cell_type": "code",
      "source": [
        "print(data_frame.head())"
      ],
      "metadata": {
        "colab": {
          "base_uri": "https://localhost:8080/"
        },
        "id": "rNYuNOvdttm6",
        "outputId": "5e63b895-0b95-490b-e163-591256d1d6c8"
      },
      "execution_count": 5,
      "outputs": [
        {
          "output_type": "stream",
          "name": "stdout",
          "text": [
            "   Attribute1  Attribute2  Attribute3  Attribute4  Attribute5  Attribute6  \\\n",
            "0           0           6           4           4        1169           4   \n",
            "1           1          48           2           4        5951           0   \n",
            "2           3          12           4           7        2096           0   \n",
            "3           0          42           2           3        7882           0   \n",
            "4           0          24           3           0        4870           0   \n",
            "\n",
            "   Attribute7  Attribute8  Attribute9  Attribute10  ...  Attribute12  \\\n",
            "0           4           4           2            0  ...            0   \n",
            "1           2           2           1            0  ...            0   \n",
            "2           3           2           2            0  ...            0   \n",
            "3           3           2           2            2  ...            1   \n",
            "4           2           3           2            0  ...            3   \n",
            "\n",
            "   Attribute13  Attribute14  Attribute15  Attribute16  Attribute17  \\\n",
            "0           67            2            1            2            2   \n",
            "1           22            2            1            1            2   \n",
            "2           49            2            1            1            1   \n",
            "3           45            2            2            1            2   \n",
            "4           53            2            2            2            2   \n",
            "\n",
            "   Attribute18  Attribute19  Attribute20  target  \n",
            "0            1            1            0       1  \n",
            "1            1            0            0       2  \n",
            "2            2            0            0       1  \n",
            "3            2            0            0       1  \n",
            "4            2            0            0       2  \n",
            "\n",
            "[5 rows x 21 columns]\n"
          ]
        }
      ]
    },
    {
      "cell_type": "code",
      "source": [
        "from sdv.metadata import Metadata\n",
        "from sdv.single_table import CTGANSynthesizer\n",
        "from sdv.sampling import Condition\n",
        "\n",
        "metadata = Metadata.detect_from_dataframe(data=data_frame, table_name='gcc')\n",
        "metadata.update_column(column_name='target', sdtype='categorical')\n",
        "metadata.validate()\n",
        "metadata.save_to_json(f'metadata.json')"
      ],
      "metadata": {
        "id": "Qjza6whppqXq"
      },
      "execution_count": 6,
      "outputs": []
    },
    {
      "cell_type": "code",
      "source": [
        "ctgan = CTGANSynthesizer(metadata)\n",
        "ctgan.fit(data_frame)\n",
        "synth_data = ctgan.sample(num_rows=7000)"
      ],
      "metadata": {
        "id": "xG33d9EGp8L1"
      },
      "execution_count": 7,
      "outputs": []
    },
    {
      "cell_type": "code",
      "source": [
        "print(synth_data.head())"
      ],
      "metadata": {
        "colab": {
          "base_uri": "https://localhost:8080/"
        },
        "id": "MIlui4iZqXjt",
        "outputId": "c8119f8a-f579-4593-c48d-f97ccc9f9ce2"
      },
      "execution_count": 8,
      "outputs": [
        {
          "output_type": "stream",
          "name": "stdout",
          "text": [
            "   Attribute1  Attribute2  Attribute3  Attribute4  Attribute5  Attribute6  \\\n",
            "0           0           9           2           0        1547           1   \n",
            "1           1           4           2           7        2510           0   \n",
            "2           3          14           0           3        2000           0   \n",
            "3           2          20           4           4        8814           0   \n",
            "4           0          13           2           4        4131           0   \n",
            "\n",
            "   Attribute7  Attribute8  Attribute9  Attribute10  ...  Attribute12  \\\n",
            "0           3           4           2            0  ...            2   \n",
            "1           4           4           2            0  ...            2   \n",
            "2           4           2           2            0  ...            0   \n",
            "3           4           4           2            1  ...            3   \n",
            "4           4           2           2            0  ...            1   \n",
            "\n",
            "   Attribute13  Attribute14  Attribute15  Attribute16  Attribute17  \\\n",
            "0           43            2            1            1            0   \n",
            "1           25            0            1            1            3   \n",
            "2           75            2            1            1            2   \n",
            "3           19            2            1            2            1   \n",
            "4           47            2            1            1            2   \n",
            "\n",
            "   Attribute18  Attribute19  Attribute20  target  \n",
            "0            1            0            0       2  \n",
            "1            1            0            0       2  \n",
            "2            1            1            0       2  \n",
            "3            2            0            0       1  \n",
            "4            1            1            0       1  \n",
            "\n",
            "[5 rows x 21 columns]\n"
          ]
        }
      ]
    },
    {
      "cell_type": "code",
      "source": [
        "train_X = data_frame.drop(columns=[\"target\"])\n",
        "train_y = data_frame[\"target\"]\n",
        "\n",
        "synth_X = synth_data.drop(columns=[\"target\"])\n",
        "synth_y = synth_data[\"target\"]\n",
        "\n",
        "test_X = data_frame.drop(columns=[\"target\"])\n",
        "test_y = data_frame[\"target\"]"
      ],
      "metadata": {
        "id": "orGQ0F78r7P2"
      },
      "execution_count": 9,
      "outputs": []
    },
    {
      "cell_type": "code",
      "source": [
        "from qde.qde import QDE\n",
        "from sklearn.naive_bayes import GaussianNB\n",
        "\n",
        "estimator = GaussianNB()\n",
        "\n",
        "qde_obj = QDE(default_strategy=\"oes\")\n",
        "\n",
        "qde_obj.fit(\n",
        "    train_X=train_X, train_y=train_y,\n",
        "    syn_X=synth_X, syn_y=synth_y,\n",
        "    test_X=test_X, test_y=test_y,\n",
        "    strategy=\"oes\",\n",
        "    estimator=estimator,\n",
        "    encode_labels=True,\n",
        ")\n",
        "\n",
        "result, X_sel, y_sel = qde_obj.extract(\n",
        "    estimator=estimator,\n",
        "    compute_filtered_accuracy=True,\n",
        "    k_neighbors=7,\n",
        "    distance_mode=\"cosine\",\n",
        ")"
      ],
      "metadata": {
        "id": "okTncoJWrUy8"
      },
      "execution_count": 10,
      "outputs": []
    },
    {
      "cell_type": "code",
      "source": [
        "# Report\n",
        "print(f\"Selected indices (first 20): {result.indices[:20].tolist()}\")\n",
        "print(f\"Accepted count: {len(result.indices)} / synth_size={len(synth_X)}\")\n",
        "if hasattr(result, \"meta\") and result.meta:\n",
        "    for k, v in result.meta.items():\n",
        "        print(f\"  {k}: {v}\")"
      ],
      "metadata": {
        "colab": {
          "base_uri": "https://localhost:8080/"
        },
        "id": "xRI_1eOjs16k",
        "outputId": "aad19704-11ca-4a87-a25f-fa24ebb4ebbd"
      },
      "execution_count": 11,
      "outputs": [
        {
          "output_type": "stream",
          "name": "stdout",
          "text": [
            "Selected indices (first 20): [12, 18, 22, 23, 25, 30, 36, 38, 40, 50, 51, 55, 61, 62, 66, 68, 79, 87, 92, 102]\n",
            "Accepted count: 1333 / synth_size=7000\n",
            "  strategy: oes\n",
            "  selected-samples: 1333\n",
            "  original-accuracy: 0.742\n",
            "  augmented-accuracy: 0.686\n",
            "  filtered-accuracy: 0.751\n"
          ]
        }
      ]
    }
  ]
}