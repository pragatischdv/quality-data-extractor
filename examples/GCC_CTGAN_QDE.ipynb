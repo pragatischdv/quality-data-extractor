{
  "nbformat": 4,
  "nbformat_minor": 0,
  "metadata": {
    "colab": {
      "provenance": []
    },
    "kernelspec": {
      "name": "python3",
      "display_name": "Python 3"
    },
    "language_info": {
      "name": "python"
    }
  },
  "cells": [
    {
      "cell_type": "code",
      "source": [
        "%pip install sdv ucimlrepo"
      ],
      "metadata": {
        "id": "VdGJivVloQNJ"
      },
      "execution_count": null,
      "outputs": []
    },
    {
      "cell_type": "code",
      "source": [
        "!git clone https://github.com/pragatischdv/quality-data-extractor.git"
      ],
      "metadata": {
        "id": "nrsnEZNEqx1r"
      },
      "execution_count": null,
      "outputs": []
    },
    {
      "cell_type": "code",
      "source": [
        "%cd quality-data-extractor"
      ],
      "metadata": {
        "colab": {
          "base_uri": "https://localhost:8080/"
        },
        "id": "8ErJJ4I3rBlu",
        "outputId": "2d7b7a83-e690-4a12-f3de-b18395d0d1e0"
      },
      "execution_count": 6,
      "outputs": [
        {
          "output_type": "stream",
          "name": "stdout",
          "text": [
            "/content/quality-data-extractor\n"
          ]
        }
      ]
    },
    {
      "cell_type": "code",
      "source": [
        "from ucimlrepo import fetch_ucirepo\n",
        "\n",
        "# fetch dataset\n",
        "statlog_german_credit_data = fetch_ucirepo(id=144)\n",
        "\n",
        "# data (as pandas dataframes)\n",
        "X = statlog_german_credit_data.data.features\n",
        "y = statlog_german_credit_data.data.targets"
      ],
      "metadata": {
        "id": "uvVsnArMojpt"
      },
      "execution_count": 10,
      "outputs": []
    },
    {
      "cell_type": "code",
      "source": [
        "data_frame = X.copy()\n",
        "data_frame[\"target\"] = y"
      ],
      "metadata": {
        "id": "jtpDtqRwpRyb"
      },
      "execution_count": 11,
      "outputs": []
    },
    {
      "cell_type": "code",
      "source": [
        "import pandas as pd\n",
        "from sklearn.preprocessing import LabelEncoder\n",
        "\n",
        "# Find categorical (non-numeric) columns\n",
        "categorical_cols = data_frame.select_dtypes(include=['object', 'category']).columns\n",
        "\n",
        "# Label encode each categorical column\n",
        "label_encoders = {}\n",
        "\n",
        "for col in categorical_cols:\n",
        "    le = LabelEncoder()\n",
        "    data_frame[col] = le.fit_transform(data_frame[col].astype(str))  # Ensure all values are strings\n",
        "    label_encoders[col] = le  # Store encoder if you need to inverse_transform later"
      ],
      "metadata": {
        "id": "b3FUaJTqtUHS"
      },
      "execution_count": 12,
      "outputs": []
    },
    {
      "cell_type": "code",
      "source": [
        "print(data_frame.head())"
      ],
      "metadata": {
        "colab": {
          "base_uri": "https://localhost:8080/"
        },
        "id": "rNYuNOvdttm6",
        "outputId": "fb898ff3-07b7-4c06-d1e1-30c29171117c"
      },
      "execution_count": 13,
      "outputs": [
        {
          "output_type": "stream",
          "name": "stdout",
          "text": [
            "   Attribute1  Attribute2  Attribute3  Attribute4  Attribute5  Attribute6  \\\n",
            "0           0           6           4           4        1169           4   \n",
            "1           1          48           2           4        5951           0   \n",
            "2           3          12           4           7        2096           0   \n",
            "3           0          42           2           3        7882           0   \n",
            "4           0          24           3           0        4870           0   \n",
            "\n",
            "   Attribute7  Attribute8  Attribute9  Attribute10  ...  Attribute12  \\\n",
            "0           4           4           2            0  ...            0   \n",
            "1           2           2           1            0  ...            0   \n",
            "2           3           2           2            0  ...            0   \n",
            "3           3           2           2            2  ...            1   \n",
            "4           2           3           2            0  ...            3   \n",
            "\n",
            "   Attribute13  Attribute14  Attribute15  Attribute16  Attribute17  \\\n",
            "0           67            2            1            2            2   \n",
            "1           22            2            1            1            2   \n",
            "2           49            2            1            1            1   \n",
            "3           45            2            2            1            2   \n",
            "4           53            2            2            2            2   \n",
            "\n",
            "   Attribute18  Attribute19  Attribute20  target  \n",
            "0            1            1            0       1  \n",
            "1            1            0            0       2  \n",
            "2            2            0            0       1  \n",
            "3            2            0            0       1  \n",
            "4            2            0            0       2  \n",
            "\n",
            "[5 rows x 21 columns]\n"
          ]
        }
      ]
    },
    {
      "cell_type": "code",
      "source": [
        "from sdv.metadata import Metadata\n",
        "from sdv.single_table import CTGANSynthesizer\n",
        "from sdv.sampling import Condition\n",
        "\n",
        "metadata = Metadata.detect_from_dataframe(data=data_frame, table_name='gcc')\n",
        "metadata.update_column(column_name='target', sdtype='categorical')\n",
        "metadata.validate()\n",
        "metadata.save_to_json(f'metadata.json')"
      ],
      "metadata": {
        "id": "Qjza6whppqXq"
      },
      "execution_count": 14,
      "outputs": []
    },
    {
      "cell_type": "code",
      "source": [
        "ctgan = CTGANSynthesizer(metadata)\n",
        "ctgan.fit(data_frame)\n",
        "synth_data = ctgan.sample(num_rows=7000)"
      ],
      "metadata": {
        "id": "xG33d9EGp8L1"
      },
      "execution_count": 15,
      "outputs": []
    },
    {
      "cell_type": "code",
      "source": [
        "print(synth_data.head())"
      ],
      "metadata": {
        "colab": {
          "base_uri": "https://localhost:8080/"
        },
        "id": "MIlui4iZqXjt",
        "outputId": "14444e66-95b9-46bf-8922-58307a80801a"
      },
      "execution_count": 16,
      "outputs": [
        {
          "output_type": "stream",
          "name": "stdout",
          "text": [
            "   Attribute1  Attribute2  Attribute3  Attribute4  Attribute5  Attribute6  \\\n",
            "0           0          12           2           3        5256           1   \n",
            "1           1          26           2           7         885           0   \n",
            "2           3          14           2           3         304           0   \n",
            "3           2          20           4           4         932           1   \n",
            "4           0          35           4           3        1614           0   \n",
            "\n",
            "   Attribute7  Attribute8  Attribute9  Attribute10  ...  Attribute12  \\\n",
            "0           3           3           2            0  ...            2   \n",
            "1           4           4           2            0  ...            2   \n",
            "2           4           2           2            0  ...            2   \n",
            "3           4           4           1            0  ...            1   \n",
            "4           4           2           2            0  ...            1   \n",
            "\n",
            "   Attribute13  Attribute14  Attribute15  Attribute16  Attribute17  \\\n",
            "0           40            2            2            1            0   \n",
            "1           21            0            0            1            3   \n",
            "2           23            2            1            1            2   \n",
            "3           42            2            2            1            2   \n",
            "4           28            2            1            1            2   \n",
            "\n",
            "   Attribute18  Attribute19  Attribute20  target  \n",
            "0            1            0            0       2  \n",
            "1            2            0            0       2  \n",
            "2            1            0            0       2  \n",
            "3            1            0            0       1  \n",
            "4            1            1            0       1  \n",
            "\n",
            "[5 rows x 21 columns]\n"
          ]
        }
      ]
    },
    {
      "cell_type": "code",
      "source": [
        "train_X = data_frame.drop(columns=[\"target\"])\n",
        "train_y = data_frame[\"target\"]\n",
        "\n",
        "synth_X = synth_data.drop(columns=[\"target\"])\n",
        "synth_y = synth_data[\"target\"]\n",
        "\n",
        "test_X = data_frame.drop(columns=[\"target\"])\n",
        "test_y = data_frame[\"target\"]"
      ],
      "metadata": {
        "id": "orGQ0F78r7P2"
      },
      "execution_count": 17,
      "outputs": []
    },
    {
      "cell_type": "code",
      "source": [
        "from qde.qde import QDE\n",
        "from sklearn.naive_bayes import GaussianNB\n",
        "\n",
        "estimator = GaussianNB()\n",
        "\n",
        "qde_obj = QDE(default_strategy=\"oes\")\n",
        "\n",
        "qde_obj.fit(\n",
        "    train_X=train_X, train_y=train_y,\n",
        "    syn_X=synth_X, syn_y=synth_y,\n",
        "    test_X=test_X, test_y=test_y,\n",
        "    strategy=\"oes\",\n",
        "    estimator=estimator,\n",
        "    encode_labels=True,\n",
        ")\n",
        "\n",
        "result, X_sel, y_sel = qde_obj.extract(\n",
        "    estimator=estimator,\n",
        "    compute_filtered_accuracy=True,\n",
        "    k_neighbors=7,\n",
        "    distance_mode=\"cosine\",\n",
        ")"
      ],
      "metadata": {
        "id": "okTncoJWrUy8"
      },
      "execution_count": 18,
      "outputs": []
    },
    {
      "cell_type": "code",
      "source": [
        "# Report\n",
        "print(f\"Selected indices (first 20): {result.indices[:20].tolist()}\")\n",
        "print(f\"Accepted count: {len(result.indices)} / synth_size={len(synth_X)}\")\n",
        "if hasattr(result, \"meta\") and result.meta:\n",
        "    for k, v in result.meta.items():\n",
        "        print(f\"  {k}: {v}\")"
      ],
      "metadata": {
        "colab": {
          "base_uri": "https://localhost:8080/"
        },
        "id": "xRI_1eOjs16k",
        "outputId": "4c86839d-2be9-456b-d6eb-ecec7a884422"
      },
      "execution_count": 19,
      "outputs": [
        {
          "output_type": "stream",
          "name": "stdout",
          "text": [
            "Selected indices (first 20): [3, 6, 8, 18, 23, 36, 47, 61, 63, 70, 72, 79, 87, 98, 102, 104, 107, 115, 119, 123]\n",
            "Accepted count: 1247 / synth_size=7000\n",
            "  strategy: oes\n",
            "  selected-samples: 1247\n",
            "  original-accuracy: 0.742\n",
            "  augmented-accuracy: 0.58075\n",
            "  filtered-accuracy: 0.6372941700044504\n"
          ]
        }
      ]
    }
  ]
}